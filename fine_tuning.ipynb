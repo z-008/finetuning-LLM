{
  "cells": [
    {
      "cell_type": "code",
      "execution_count": 1,
      "metadata": {
        "colab": {
          "base_uri": "https://localhost:8080/"
        },
        "id": "tHA8WUNDRiA7",
        "outputId": "05373248-f8d7-46fb-87c7-5d16db5d1db0"
      },
      "outputs": [
        {
          "name": "stdout",
          "output_type": "stream",
          "text": [
            "\u001b[?25l     \u001b[90m━━━━━━━━━━━━━━━━━━━━━━━━━━━━━━━━━━━━━━━━\u001b[0m \u001b[32m0.0/82.9 kB\u001b[0m \u001b[31m?\u001b[0m eta \u001b[36m-:--:--\u001b[0m\r\u001b[2K     \u001b[91m━━━━━━━━━━━━━━\u001b[0m\u001b[91m╸\u001b[0m\u001b[90m━━━━━━━━━━━━━━━━━━━━━━━━━\u001b[0m \u001b[32m30.7/82.9 kB\u001b[0m \u001b[31m909.0 kB/s\u001b[0m eta \u001b[36m0:00:01\u001b[0m\r\u001b[2K     \u001b[91m━━━━━━━━━━━━━━━━━━━━━━━━━━━━━━━━━━━━━━━\u001b[0m\u001b[91m╸\u001b[0m \u001b[32m81.9/82.9 kB\u001b[0m \u001b[31m1.4 MB/s\u001b[0m eta \u001b[36m0:00:01\u001b[0m\r\u001b[2K     \u001b[90m━━━━━━━━━━━━━━━━━━━━━━━━━━━━━━━━━━━━━━━━\u001b[0m \u001b[32m82.9/82.9 kB\u001b[0m \u001b[31m1.0 MB/s\u001b[0m eta \u001b[36m0:00:00\u001b[0m\n",
            "\u001b[?25h  Preparing metadata (setup.py) ... \u001b[?25l\u001b[?25hdone\n",
            "  Preparing metadata (setup.py) ... \u001b[?25l\u001b[?25hdone\n",
            "  Installing build dependencies ... \u001b[?25l\u001b[?25hdone\n",
            "  Getting requirements to build wheel ... \u001b[?25l\u001b[?25hdone\n",
            "  Preparing metadata (pyproject.toml) ... \u001b[?25l\u001b[?25hdone\n",
            "\u001b[2K     \u001b[90m━━━━━━━━━━━━━━━━━━━━━━━━━━━━━━━━━━━━━━━━\u001b[0m \u001b[32m12.6/12.6 MB\u001b[0m \u001b[31m62.4 MB/s\u001b[0m eta \u001b[36m0:00:00\u001b[0m\n",
            "\u001b[2K     \u001b[90m━━━━━━━━━━━━━━━━━━━━━━━━━━━━━━━━━━━━━━━━\u001b[0m \u001b[32m130.2/130.2 kB\u001b[0m \u001b[31m2.7 MB/s\u001b[0m eta \u001b[36m0:00:00\u001b[0m\n",
            "\u001b[2K     \u001b[90m━━━━━━━━━━━━━━━━━━━━━━━━━━━━━━━━━━━━━━━━\u001b[0m \u001b[32m49.3/49.3 kB\u001b[0m \u001b[31m1.9 MB/s\u001b[0m eta \u001b[36m0:00:00\u001b[0m\n",
            "\u001b[2K     \u001b[90m━━━━━━━━━━━━━━━━━━━━━━━━━━━━━━━━━━━━━━━━\u001b[0m \u001b[32m1.6/1.6 MB\u001b[0m \u001b[31m63.4 MB/s\u001b[0m eta \u001b[36m0:00:00\u001b[0m\n",
            "\u001b[2K     \u001b[90m━━━━━━━━━━━━━━━━━━━━━━━━━━━━━━━━━━━━━━━━\u001b[0m \u001b[32m1.7/1.7 MB\u001b[0m \u001b[31m67.8 MB/s\u001b[0m eta \u001b[36m0:00:00\u001b[0m\n",
            "\u001b[2K     \u001b[90m━━━━━━━━━━━━━━━━━━━━━━━━━━━━━━━━━━━━━━━━\u001b[0m \u001b[32m100.3/100.3 kB\u001b[0m \u001b[31m6.1 MB/s\u001b[0m eta \u001b[36m0:00:00\u001b[0m\n",
            "\u001b[2K     \u001b[90m━━━━━━━━━━━━━━━━━━━━━━━━━━━━━━━━━━━━━━━━\u001b[0m \u001b[32m6.5/6.5 MB\u001b[0m \u001b[31m73.9 MB/s\u001b[0m eta \u001b[36m0:00:00\u001b[0m\n",
            "\u001b[2K     \u001b[90m━━━━━━━━━━━━━━━━━━━━━━━━━━━━━━━━━━━━━━━━\u001b[0m \u001b[32m3.0/3.0 MB\u001b[0m \u001b[31m73.8 MB/s\u001b[0m eta \u001b[36m0:00:00\u001b[0m\n",
            "\u001b[2K     \u001b[90m━━━━━━━━━━━━━━━━━━━━━━━━━━━━━━━━━━━━━━━━\u001b[0m \u001b[32m247.3/247.3 kB\u001b[0m \u001b[31m22.6 MB/s\u001b[0m eta \u001b[36m0:00:00\u001b[0m\n",
            "\u001b[?25h  Building wheel for predibase (setup.py) ... \u001b[?25l\u001b[?25hdone\n",
            "  Building wheel for predibase-api (setup.py) ... \u001b[?25l\u001b[?25hdone\n",
            "  Building wheel for progress-table (pyproject.toml) ... \u001b[?25l\u001b[?25hdone\n"
          ]
        }
      ],
      "source": [
        "!pip install -U predibase --quiet"
      ]
    },
    {
      "cell_type": "markdown",
      "metadata": {
        "id": "w7fjHu_bdvOd"
      },
      "source": [
        "## Initialize Predibase Client"
      ]
    },
    {
      "cell_type": "code",
      "execution_count": 9,
      "metadata": {
        "colab": {
          "base_uri": "https://localhost:8080/",
          "height": 34
        },
        "id": "s0_vVAxjUMoN",
        "outputId": "ddf4aa73-4694-4b36-aa21-59a17becbd89"
      },
      "outputs": [
        {
          "data": {
            "text/html": [
              "<pre style=\"white-space:pre;overflow-x:auto;line-height:normal;font-family:Menlo,'DejaVu Sans Mono',consolas,'Courier New',monospace\"><span style=\"color: #000080; text-decoration-color: #000080; font-weight: bold\">Connected to Predibase as </span><span style=\"color: #800080; text-decoration-color: #800080; font-weight: bold\">User</span><span style=\"color: #000080; text-decoration-color: #000080; font-weight: bold\">(</span><span style=\"color: #808000; text-decoration-color: #808000; font-weight: bold\">id</span><span style=\"color: #000080; text-decoration-color: #000080; font-weight: bold\">=</span><span style=\"color: #ffff00; text-decoration-color: #ffff00\">84b37d8c</span><span style=\"color: #ffff00; text-decoration-color: #ffff00\">-79bd-4164-ac22-f88f49dd93e7</span><span style=\"color: #000080; text-decoration-color: #000080; font-weight: bold\">, </span><span style=\"color: #808000; text-decoration-color: #808000; font-weight: bold\">username</span><span style=\"color: #000080; text-decoration-color: #000080; font-weight: bold\">=</span><span style=\"color: #800080; text-decoration-color: #800080; font-weight: bold\">sandeep</span><span style=\"color: #000080; text-decoration-color: #000080; font-weight: bold\">.samant@rwth-aachen.de)</span>\n",
              "</pre>\n"
            ],
            "text/plain": [
              "\u001b[1;34mConnected to Predibase as \u001b[0m\u001b[1;35mUser\u001b[0m\u001b[1;34m(\u001b[0m\u001b[1;33mid\u001b[0m\u001b[1;34m=\u001b[0m\u001b[93m84b37d8c\u001b[0m\u001b[93m-79bd-4164-ac22-f88f49dd93e7\u001b[0m\u001b[1;34m, \u001b[0m\u001b[1;33musername\u001b[0m\u001b[1;34m=\u001b[0m\u001b[1;35msandeep\u001b[0m\u001b[1;34m.samant@rwth-aachen.de\u001b[0m\u001b[1;34m)\u001b[0m\n"
            ]
          },
          "metadata": {},
          "output_type": "display_data"
        }
      ],
      "source": [
        "from predibase import Predibase, FinetuningConfig, DeploymentConfig\n",
        "\n",
        "pb = Predibase(api_token=\"pb_Ig-6eXN0WzCe9NH0dD-vTQ\")"
      ]
    },
    {
      "cell_type": "code",
      "execution_count": 16,
      "metadata": {
        "colab": {
          "base_uri": "https://localhost:8080/",
          "height": 34
        },
        "id": "pfFrlfu3Rn4R",
        "outputId": "0135cd2f-b252-448e-a292-f5e962622d50"
      },
      "outputs": [
        {
          "data": {
            "text/html": [
              "<pre style=\"white-space:pre;overflow-x:auto;line-height:normal;font-family:Menlo,'DejaVu Sans Mono',consolas,'Courier New',monospace\"><span style=\"color: #000080; text-decoration-color: #000080; font-weight: bold\">Connected to Predibase as </span><span style=\"color: #800080; text-decoration-color: #800080; font-weight: bold\">User</span><span style=\"color: #000080; text-decoration-color: #000080; font-weight: bold\">(</span><span style=\"color: #808000; text-decoration-color: #808000; font-weight: bold\">id</span><span style=\"color: #000080; text-decoration-color: #000080; font-weight: bold\">=</span><span style=\"color: #ffff00; text-decoration-color: #ffff00\">84b37d8c</span><span style=\"color: #ffff00; text-decoration-color: #ffff00\">-79bd-4164-ac22-f88f49dd93e7</span><span style=\"color: #000080; text-decoration-color: #000080; font-weight: bold\">, </span><span style=\"color: #808000; text-decoration-color: #808000; font-weight: bold\">username</span><span style=\"color: #000080; text-decoration-color: #000080; font-weight: bold\">=</span><span style=\"color: #800080; text-decoration-color: #800080; font-weight: bold\">sandeep</span><span style=\"color: #000080; text-decoration-color: #000080; font-weight: bold\">.samant@rwth-aachen.de)</span>\n",
              "</pre>\n"
            ],
            "text/plain": [
              "\u001b[1;34mConnected to Predibase as \u001b[0m\u001b[1;35mUser\u001b[0m\u001b[1;34m(\u001b[0m\u001b[1;33mid\u001b[0m\u001b[1;34m=\u001b[0m\u001b[93m84b37d8c\u001b[0m\u001b[93m-79bd-4164-ac22-f88f49dd93e7\u001b[0m\u001b[1;34m, \u001b[0m\u001b[1;33musername\u001b[0m\u001b[1;34m=\u001b[0m\u001b[1;35msandeep\u001b[0m\u001b[1;34m.samant@rwth-aachen.de\u001b[0m\u001b[1;34m)\u001b[0m\n"
            ]
          },
          "metadata": {},
          "output_type": "display_data"
        }
      ],
      "source": [
        "from predibase import PredibaseClient\n",
        "pc = PredibaseClient(token = \"pb_Ig-6eXN0WzCe9NH0dD-vTQ\")"
      ]
    },
    {
      "cell_type": "markdown",
      "metadata": {
        "id": "nNlkuFVGdx8r"
      },
      "source": [
        "## connecting dataset"
      ]
    },
    {
      "cell_type": "code",
      "execution_count": 19,
      "metadata": {
        "id": "CU3w2udcT5af"
      },
      "outputs": [],
      "source": [
        "dataset = pb.datasets.from_file(\"final_data_itsm.csv\", name=\"itsm_dataset\")"
      ]
    },
    {
      "cell_type": "markdown",
      "metadata": {
        "id": "UOtQ50EOd6Ui"
      },
      "source": [
        "## Creating Baseline model and finetuning it"
      ]
    },
    {
      "cell_type": "code",
      "execution_count": 20,
      "metadata": {
        "colab": {
          "base_uri": "https://localhost:8080/"
        },
        "id": "o1Rd_iu4SP0G",
        "outputId": "c5da2017-acb4-4b98-f75c-4c0b49adfc13"
      },
      "outputs": [
        {
          "name": "stdout",
          "output_type": "stream",
          "text": [
            "Successfully requested finetuning of llama-2-7b as `itsm-tasks-model/1`. (Job UUID: 2c9f5d66-6ad4-4722-b23f-0abfcd9a2762).\n",
            "\n",
            "Watching progress of finetuning job 2c9f5d66-6ad4-4722-b23f-0abfcd9a2762. This call will block until the job has finished. Canceling or terminating this call will NOT cancel or terminate the job itself.\n",
            "\n",
            "Job is starting. Total queue time: 0:00:47         \n",
            "Waiting to receive training metrics...\n",
            "\n",
            "┌────────────┬────────────┬─────────────────┐\n",
            "│ checkpoint \u001b[0m│ train_loss \u001b[0m│ validation_loss \u001b[0m│\n",
            "├────────────┼────────────┼─────────────────┤\n",
            "│     1      \u001b[0m│   0.9015   \u001b[0m│        --       \u001b[0m│\n",
            "│     2      \u001b[0m│   0.5767   \u001b[0m│        --       \u001b[0m│\n",
            "│     3      \u001b[0m│   0.5993   \u001b[0m│        --       \u001b[0m│\n",
            "└────────────┴────────────┴─────────────────┘\n"
          ]
        }
      ],
      "source": [
        "# Create an adapter repository\n",
        "repo = pb.repos.create(name=\"itsm-tasks-model\", description=\"AI-powered ITSM troubleshooting agent \", exists_ok=True)\n",
        "\n",
        "# Start a fine-tuning job, blocks until training is finished\n",
        "adapter = pb.adapters.create(\n",
        "    config=FinetuningConfig(\n",
        "        base_model=\"llama-2-7b\"\n",
        "    ),\n",
        "    dataset=dataset, # Also accepts the dataset name as a string\n",
        "    repo=repo,\n",
        "    description=\"initial model with defaults\"\n",
        ")"
      ]
    },
    {
      "cell_type": "markdown",
      "metadata": {
        "id": "pLMNzjEUd7xz"
      },
      "source": [
        "## Instructional tuning LLama2"
      ]
    },
    {
      "cell_type": "code",
      "execution_count": 21,
      "metadata": {
        "colab": {
          "base_uri": "https://localhost:8080/"
        },
        "id": "e0Bd5q11U6nQ",
        "outputId": "1c51aab8-a984-4730-d807-f25333fd2b02"
      },
      "outputs": [
        {
          "name": "stdout",
          "output_type": "stream",
          "text": [
            "Successfully requested finetuning of llama-2-7b as `itsm-tasks-model_v2/1`. (Job UUID: d6147f31-7c47-45bf-8baa-b9201ef51ada).\n",
            "\n",
            "Watching progress of finetuning job d6147f31-7c47-45bf-8baa-b9201ef51ada. This call will block until the job has finished. Canceling or terminating this call will NOT cancel or terminate the job itself.\n",
            "\n",
            "Job is starting. Total queue time: 0:04:46         \n",
            "Waiting to receive training metrics...\n",
            "\n",
            "┌────────────┬────────────┬─────────────────┐\n",
            "│ checkpoint \u001b[0m│ train_loss \u001b[0m│ validation_loss \u001b[0m│\n",
            "├────────────┼────────────┼─────────────────┤\n",
            "│     1      \u001b[0m│   1.4055   \u001b[0m│        --       \u001b[0m│\n",
            "└────────────┴────────────┴─────────────────┘\n"
          ]
        }
      ],
      "source": [
        "# Create an adapter repository\n",
        "repo = pb.repos.create(name=\"itsm-tasks-model_v2\", description=\"AI-powered ITSM troubleshooting agent\", exists_ok=True)\n",
        "\n",
        "# Start a fine-tuning job with custom parameters, blocks until training is finished\n",
        "adapter = pb.adapters.create(\n",
        "    config=FinetuningConfig(\n",
        "         base_model=\"llama-2-7b\",\n",
        "        epochs=1, # default: 3\n",
        "        rank=8, # default: 16\n",
        "        learning_rate=0.0001 # default: 0.0002\n",
        "    ),\n",
        "    dataset=dataset,\n",
        "    repo=repo,\n",
        "    description=\"changing epochs, rank, and learning rate\"\n",
        ")"
      ]
    },
    {
      "cell_type": "code",
      "execution_count": 22,
      "metadata": {
        "colab": {
          "base_uri": "https://localhost:8080/"
        },
        "id": "7u7gQ_9GqpfG",
        "outputId": "91a2b3b3-6c1c-42dd-9278-9c50e8b4f6fd"
      },
      "outputs": [
        {
          "data": {
            "text/plain": [
              "Adapter(repo='itsm-tasks-model_v2', tag=1, base_model='llama-2-7b', description='changing epochs, rank, and learning rate', artifact_path='d6147f31-7c47-45bf-8baa-b9201ef51ada/4c56c79f4a234cd4853255ee05e7a5ad/artifacts/model/model_weights', finetuning_error=None, finetuning_job_uuid='d6147f31-7c47-45bf-8baa-b9201ef51ada')"
            ]
          },
          "execution_count": 22,
          "metadata": {},
          "output_type": "execute_result"
        }
      ],
      "source": [
        "adapter = pb.adapters.get(\"itsm-tasks-model_v2/1\")\n",
        "adapter"
      ]
    },
    {
      "cell_type": "code",
      "execution_count": null,
      "metadata": {
        "id": "ovS9CDvJq3Ia"
      },
      "outputs": [],
      "source": [
        "pb.adapters.download(\"itsm-tasks-model_v2/1\")"
      ]
    }
  ],
  "metadata": {
    "colab": {
      "provenance": []
    },
    "kernelspec": {
      "display_name": "Python 3",
      "name": "python3"
    },
    "language_info": {
      "name": "python"
    }
  },
  "nbformat": 4,
  "nbformat_minor": 0
}
